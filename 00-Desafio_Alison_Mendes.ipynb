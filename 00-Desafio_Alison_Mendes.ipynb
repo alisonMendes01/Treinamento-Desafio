{
 "cells": [
  {
   "cell_type": "code",
   "execution_count": 1,
   "id": "a64e02e4",
   "metadata": {},
   "outputs": [],
   "source": [
    "import pandas as pd"
   ]
  },
  {
   "cell_type": "code",
   "execution_count": 3,
   "id": "4f434ad8",
   "metadata": {},
   "outputs": [],
   "source": [
    "def get_missing_data(df):\n",
    "    missing_data = (df.isnull().sum() / df.shape[0]) * 100\n",
    "    return dict(missing_data)"
   ]
  },
  {
   "cell_type": "code",
   "execution_count": 4,
   "id": "1be479e6",
   "metadata": {},
   "outputs": [],
   "source": [
    "def fill_missed_values(df):\n",
    "    missing_data = get_missing_data(df)\n",
    "    for miss in missing_data:\n",
    "        if missing_data[miss] > 0:\n",
    "            try:\n",
    "                df[miss] = df[miss].fillna(df[miss].mean())\n",
    "            except:\n",
    "                df[miss] = df[miss].fillna('missed')\n",
    "    return df"
   ]
  },
  {
   "cell_type": "code",
   "execution_count": 2,
   "id": "fe9abe3b",
   "metadata": {},
   "outputs": [],
   "source": [
    "train_ds = pd.read_csv('input/train.csv')\n",
    "test_ds = pd.read_csv('input/test.csv')"
   ]
  },
  {
   "cell_type": "code",
   "execution_count": 5,
   "id": "f136b6e6",
   "metadata": {},
   "outputs": [],
   "source": [
    "train_ds = fill_missed_values(train_ds)\n",
    "test_ds = fill_missed_values(test_ds)"
   ]
  },
  {
   "cell_type": "code",
   "execution_count": 9,
   "id": "5a976f96",
   "metadata": {},
   "outputs": [
    {
     "name": "stdout",
     "output_type": "stream",
     "text": [
      "{'Id': 0.0, 'Date': 0.0, 'Location': 0.0, 'MinTemp': 0.0, 'MaxTemp': 0.0, 'Rainfall': 0.0, 'Evaporation': 0.0, 'Sunshine': 0.0, 'WindGustDir': 0.0, 'WindGustSpeed': 0.0, 'WindDir9am': 0.0, 'WindDir3pm': 0.0, 'WindSpeed9am': 0.0, 'WindSpeed3pm': 0.0, 'Humidity9am': 0.0, 'Humidity3pm': 0.0, 'Pressure9am': 0.0, 'Pressure3pm': 0.0, 'Cloud9am': 0.0, 'Cloud3pm': 0.0, 'Temp9am': 0.0, 'Temp3pm': 0.0, 'RainToday': 0.0, 'RainTomorrow': 0.0}\n"
     ]
    }
   ],
   "source": [
    "print(get_missing_data(train_ds))"
   ]
  },
  {
   "cell_type": "code",
   "execution_count": null,
   "id": "8e0881cf",
   "metadata": {},
   "outputs": [],
   "source": []
  }
 ],
 "metadata": {
  "kernelspec": {
   "display_name": "Python 3",
   "language": "python",
   "name": "python3"
  },
  "language_info": {
   "codemirror_mode": {
    "name": "ipython",
    "version": 3
   },
   "file_extension": ".py",
   "mimetype": "text/x-python",
   "name": "python",
   "nbconvert_exporter": "python",
   "pygments_lexer": "ipython3",
   "version": "3.8.8"
  }
 },
 "nbformat": 4,
 "nbformat_minor": 5
}
