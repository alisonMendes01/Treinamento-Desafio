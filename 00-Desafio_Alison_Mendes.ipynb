{
 "cells": [
  {
   "cell_type": "code",
   "execution_count": 21,
   "id": "a64e02e4",
   "metadata": {},
   "outputs": [],
   "source": [
    "import pandas as pd\n",
    "import numpy as np\n",
    "import warnings\n",
    "warnings.filterwarnings('ignore')"
   ]
  },
  {
   "cell_type": "code",
   "execution_count": 2,
   "id": "4f434ad8",
   "metadata": {},
   "outputs": [],
   "source": [
    "def get_missing_data(df):\n",
    "    missing_data = (df.isnull().sum() / df.shape[0]) * 100\n",
    "    return dict(missing_data)"
   ]
  },
  {
   "cell_type": "code",
   "execution_count": 3,
   "id": "1be479e6",
   "metadata": {},
   "outputs": [],
   "source": [
    "def fill_missed_values(df):\n",
    "    missing_data = get_missing_data(df)\n",
    "    for miss in missing_data:\n",
    "        if missing_data[miss] > 0:\n",
    "            try:\n",
    "                df[miss] = df[miss].fillna(df[miss].mean())\n",
    "            except:\n",
    "                df[miss] = df[miss].fillna('missed')\n",
    "    return df"
   ]
  },
  {
   "cell_type": "code",
   "execution_count": 4,
   "id": "4cc3a790",
   "metadata": {},
   "outputs": [],
   "source": [
    "def drop_rain_missed(df):\n",
    "    idx = df[\n",
    "        (df['RainToday'] == 'missed') |\n",
    "        (df['RainTomorrow'] == 'missed')\n",
    "    ].index\n",
    "    return df.drop(idx)"
   ]
  },
  {
   "cell_type": "code",
   "execution_count": 5,
   "id": "3277485d",
   "metadata": {},
   "outputs": [],
   "source": [
    "def encoding_data(df):\n",
    "    for column in df.columns:\n",
    "        if type(df[column][2] == str):\n",
    "            df[column] = le.fit_transform(df[column])\n",
    "    return df"
   ]
  },
  {
   "cell_type": "code",
   "execution_count": 23,
   "id": "150c2916",
   "metadata": {},
   "outputs": [],
   "source": [
    "def show_cv_metrics(str, cv_result):\n",
    "    print(f'{str}: {cv_result[str].mean()} +/- {cv_result[str].std()}')"
   ]
  },
  {
   "cell_type": "code",
   "execution_count": 6,
   "id": "fe9abe3b",
   "metadata": {},
   "outputs": [],
   "source": [
    "train_ds = pd.read_csv('input/train.csv')\n",
    "test_ds = pd.read_csv('input/test.csv')"
   ]
  },
  {
   "cell_type": "code",
   "execution_count": 7,
   "id": "fbb595b9",
   "metadata": {},
   "outputs": [],
   "source": [
    "train_ds.set_index('Id', inplace=True)\n",
    "test_ds.set_index('Id', inplace=True)"
   ]
  },
  {
   "cell_type": "code",
   "execution_count": 8,
   "id": "f136b6e6",
   "metadata": {},
   "outputs": [],
   "source": [
    "train_ds = fill_missed_values(train_ds)\n",
    "test_ds = fill_missed_values(test_ds)"
   ]
  },
  {
   "cell_type": "code",
   "execution_count": 9,
   "id": "8076a059",
   "metadata": {},
   "outputs": [
    {
     "data": {
      "text/plain": [
       "142193"
      ]
     },
     "execution_count": 9,
     "metadata": {},
     "output_type": "execute_result"
    }
   ],
   "source": [
    "data = pd.concat([train_ds, test_ds])\n",
    "data.shape[0]"
   ]
  },
  {
   "cell_type": "code",
   "execution_count": 10,
   "id": "cd855469",
   "metadata": {},
   "outputs": [
    {
     "data": {
      "text/html": [
       "<div>\n",
       "<style scoped>\n",
       "    .dataframe tbody tr th:only-of-type {\n",
       "        vertical-align: middle;\n",
       "    }\n",
       "\n",
       "    .dataframe tbody tr th {\n",
       "        vertical-align: top;\n",
       "    }\n",
       "\n",
       "    .dataframe thead th {\n",
       "        text-align: right;\n",
       "    }\n",
       "</style>\n",
       "<table border=\"1\" class=\"dataframe\">\n",
       "  <thead>\n",
       "    <tr style=\"text-align: right;\">\n",
       "      <th></th>\n",
       "      <th>MinTemp</th>\n",
       "      <th>MaxTemp</th>\n",
       "      <th>Rainfall</th>\n",
       "      <th>Evaporation</th>\n",
       "      <th>Sunshine</th>\n",
       "      <th>WindGustDir</th>\n",
       "      <th>WindGustSpeed</th>\n",
       "      <th>WindDir9am</th>\n",
       "      <th>WindDir3pm</th>\n",
       "      <th>WindSpeed9am</th>\n",
       "      <th>...</th>\n",
       "      <th>Humidity9am</th>\n",
       "      <th>Humidity3pm</th>\n",
       "      <th>Pressure9am</th>\n",
       "      <th>Pressure3pm</th>\n",
       "      <th>Cloud9am</th>\n",
       "      <th>Cloud3pm</th>\n",
       "      <th>Temp9am</th>\n",
       "      <th>Temp3pm</th>\n",
       "      <th>RainToday</th>\n",
       "      <th>RainTomorrow</th>\n",
       "    </tr>\n",
       "    <tr>\n",
       "      <th>Id</th>\n",
       "      <th></th>\n",
       "      <th></th>\n",
       "      <th></th>\n",
       "      <th></th>\n",
       "      <th></th>\n",
       "      <th></th>\n",
       "      <th></th>\n",
       "      <th></th>\n",
       "      <th></th>\n",
       "      <th></th>\n",
       "      <th></th>\n",
       "      <th></th>\n",
       "      <th></th>\n",
       "      <th></th>\n",
       "      <th></th>\n",
       "      <th></th>\n",
       "      <th></th>\n",
       "      <th></th>\n",
       "      <th></th>\n",
       "      <th></th>\n",
       "      <th></th>\n",
       "    </tr>\n",
       "  </thead>\n",
       "  <tbody>\n",
       "    <tr>\n",
       "      <th>2</th>\n",
       "      <td>7.4</td>\n",
       "      <td>25.1</td>\n",
       "      <td>0.0</td>\n",
       "      <td>5.464482</td>\n",
       "      <td>7.621446</td>\n",
       "      <td>WNW</td>\n",
       "      <td>44.0</td>\n",
       "      <td>NNW</td>\n",
       "      <td>WSW</td>\n",
       "      <td>4.0</td>\n",
       "      <td>...</td>\n",
       "      <td>44.0</td>\n",
       "      <td>25.0</td>\n",
       "      <td>1010.6</td>\n",
       "      <td>1007.8</td>\n",
       "      <td>4.425827</td>\n",
       "      <td>4.501143</td>\n",
       "      <td>17.2</td>\n",
       "      <td>24.3</td>\n",
       "      <td>No</td>\n",
       "      <td>No</td>\n",
       "    </tr>\n",
       "    <tr>\n",
       "      <th>3</th>\n",
       "      <td>12.9</td>\n",
       "      <td>25.7</td>\n",
       "      <td>0.0</td>\n",
       "      <td>5.464482</td>\n",
       "      <td>7.621446</td>\n",
       "      <td>WSW</td>\n",
       "      <td>46.0</td>\n",
       "      <td>W</td>\n",
       "      <td>WSW</td>\n",
       "      <td>19.0</td>\n",
       "      <td>...</td>\n",
       "      <td>38.0</td>\n",
       "      <td>30.0</td>\n",
       "      <td>1007.6</td>\n",
       "      <td>1008.7</td>\n",
       "      <td>4.425827</td>\n",
       "      <td>2.000000</td>\n",
       "      <td>21.0</td>\n",
       "      <td>23.2</td>\n",
       "      <td>No</td>\n",
       "      <td>No</td>\n",
       "    </tr>\n",
       "    <tr>\n",
       "      <th>4</th>\n",
       "      <td>9.2</td>\n",
       "      <td>28.0</td>\n",
       "      <td>0.0</td>\n",
       "      <td>5.464482</td>\n",
       "      <td>7.621446</td>\n",
       "      <td>NE</td>\n",
       "      <td>24.0</td>\n",
       "      <td>SE</td>\n",
       "      <td>E</td>\n",
       "      <td>11.0</td>\n",
       "      <td>...</td>\n",
       "      <td>45.0</td>\n",
       "      <td>16.0</td>\n",
       "      <td>1017.6</td>\n",
       "      <td>1012.8</td>\n",
       "      <td>4.425827</td>\n",
       "      <td>4.501143</td>\n",
       "      <td>18.1</td>\n",
       "      <td>26.5</td>\n",
       "      <td>No</td>\n",
       "      <td>No</td>\n",
       "    </tr>\n",
       "  </tbody>\n",
       "</table>\n",
       "<p>3 rows × 21 columns</p>\n",
       "</div>"
      ],
      "text/plain": [
       "    MinTemp  MaxTemp  Rainfall  Evaporation  Sunshine WindGustDir  \\\n",
       "Id                                                                  \n",
       "2       7.4     25.1       0.0     5.464482  7.621446         WNW   \n",
       "3      12.9     25.7       0.0     5.464482  7.621446         WSW   \n",
       "4       9.2     28.0       0.0     5.464482  7.621446          NE   \n",
       "\n",
       "    WindGustSpeed WindDir9am WindDir3pm  WindSpeed9am  ...  Humidity9am  \\\n",
       "Id                                                     ...                \n",
       "2            44.0        NNW        WSW           4.0  ...         44.0   \n",
       "3            46.0          W        WSW          19.0  ...         38.0   \n",
       "4            24.0         SE          E          11.0  ...         45.0   \n",
       "\n",
       "    Humidity3pm  Pressure9am  Pressure3pm  Cloud9am  Cloud3pm  Temp9am  \\\n",
       "Id                                                                       \n",
       "2          25.0       1010.6       1007.8  4.425827  4.501143     17.2   \n",
       "3          30.0       1007.6       1008.7  4.425827  2.000000     21.0   \n",
       "4          16.0       1017.6       1012.8  4.425827  4.501143     18.1   \n",
       "\n",
       "    Temp3pm  RainToday RainTomorrow  \n",
       "Id                                   \n",
       "2      24.3         No           No  \n",
       "3      23.2         No           No  \n",
       "4      26.5         No           No  \n",
       "\n",
       "[3 rows x 21 columns]"
      ]
     },
     "execution_count": 10,
     "metadata": {},
     "output_type": "execute_result"
    }
   ],
   "source": [
    "data.drop(['Date', 'Location'], axis=1, inplace=True)\n",
    "data.head(3)"
   ]
  },
  {
   "cell_type": "code",
   "execution_count": 11,
   "id": "5a976f96",
   "metadata": {},
   "outputs": [
    {
     "name": "stdout",
     "output_type": "stream",
     "text": [
      "{'MinTemp': 0.0, 'MaxTemp': 0.0, 'Rainfall': 0.0, 'Evaporation': 0.0, 'Sunshine': 0.0, 'WindGustDir': 0.0, 'WindGustSpeed': 0.0, 'WindDir9am': 0.0, 'WindDir3pm': 0.0, 'WindSpeed9am': 0.0, 'WindSpeed3pm': 0.0, 'Humidity9am': 0.0, 'Humidity3pm': 0.0, 'Pressure9am': 0.0, 'Pressure3pm': 0.0, 'Cloud9am': 0.0, 'Cloud3pm': 0.0, 'Temp9am': 0.0, 'Temp3pm': 0.0, 'RainToday': 0.0, 'RainTomorrow': 0.0}\n"
     ]
    }
   ],
   "source": [
    "print(get_missing_data(data))"
   ]
  },
  {
   "cell_type": "code",
   "execution_count": 12,
   "id": "8e0881cf",
   "metadata": {},
   "outputs": [],
   "source": [
    "from sklearn.preprocessing import LabelEncoder\n",
    "le = LabelEncoder()"
   ]
  },
  {
   "cell_type": "code",
   "execution_count": 13,
   "id": "eb6fd77f",
   "metadata": {},
   "outputs": [
    {
     "data": {
      "text/plain": [
       "142193"
      ]
     },
     "execution_count": 13,
     "metadata": {},
     "output_type": "execute_result"
    }
   ],
   "source": [
    "data_le = data\n",
    "data_le.shape[0]"
   ]
  },
  {
   "cell_type": "code",
   "execution_count": 14,
   "id": "fd015fde",
   "metadata": {
    "scrolled": true
   },
   "outputs": [
    {
     "data": {
      "text/plain": [
       "140787"
      ]
     },
     "execution_count": 14,
     "metadata": {},
     "output_type": "execute_result"
    }
   ],
   "source": [
    "data_le = drop_rain_missed(data_le)\n",
    "data_le.shape[0]"
   ]
  },
  {
   "cell_type": "code",
   "execution_count": 15,
   "id": "091ec818",
   "metadata": {},
   "outputs": [],
   "source": [
    "data_le = encoding_data(data_le)"
   ]
  },
  {
   "cell_type": "code",
   "execution_count": 16,
   "id": "1f11980f",
   "metadata": {},
   "outputs": [],
   "source": [
    "X = data_le.drop('RainTomorrow', axis=1)\n",
    "y = data_le['RainTomorrow']"
   ]
  },
  {
   "cell_type": "code",
   "execution_count": 17,
   "id": "4ec75113",
   "metadata": {},
   "outputs": [],
   "source": [
    "import xgboost as xgb\n",
    "from sklearn.model_selection import StratifiedKFold\n",
    "\n",
    "folds = 3\n",
    "\n",
    "kfold = StratifiedKFold(n_splits=folds, shuffle=True, random_state=1234)\n",
    "\n",
    "model = xgb.XGBClassifier(objective='binary:logistic')"
   ]
  },
  {
   "cell_type": "code",
   "execution_count": 18,
   "id": "c3683a3f",
   "metadata": {},
   "outputs": [],
   "source": [
    "from sklearn.preprocessing import MinMaxScaler\n",
    "\n",
    "np.random.seed(1234)\n",
    "\n",
    "scaler = MinMaxScaler()\n",
    "\n",
    "X[X.columns] = scaler.fit_transform(X[X.columns])"
   ]
  },
  {
   "cell_type": "code",
   "execution_count": 22,
   "id": "cdb7cb0f",
   "metadata": {},
   "outputs": [
    {
     "name": "stdout",
     "output_type": "stream",
     "text": [
      "[17:27:57] WARNING: C:/Users/Administrator/workspace/xgboost-win64_release_1.5.1/src/learner.cc:1115: Starting in XGBoost 1.3.0, the default evaluation metric used with the objective 'binary:logistic' was changed from 'error' to 'logloss'. Explicitly set eval_metric if you'd like to restore the old behavior.\n",
      "[17:28:01] WARNING: C:/Users/Administrator/workspace/xgboost-win64_release_1.5.1/src/learner.cc:1115: Starting in XGBoost 1.3.0, the default evaluation metric used with the objective 'binary:logistic' was changed from 'error' to 'logloss'. Explicitly set eval_metric if you'd like to restore the old behavior.\n",
      "[17:28:05] WARNING: C:/Users/Administrator/workspace/xgboost-win64_release_1.5.1/src/learner.cc:1115: Starting in XGBoost 1.3.0, the default evaluation metric used with the objective 'binary:logistic' was changed from 'error' to 'logloss'. Explicitly set eval_metric if you'd like to restore the old behavior.\n"
     ]
    },
    {
     "data": {
      "text/plain": [
       "{'fit_time': array([4.03759456, 4.03543067, 3.88527274]),\n",
       " 'score_time': array([0.13840652, 0.11660051, 0.12257051]),\n",
       " 'test_precision': array([0.7389501 , 0.74589951, 0.74060101]),\n",
       " 'test_recall': array([0.54817308, 0.55096154, 0.54735122]),\n",
       " 'test_f1_macro': array([0.77039724, 0.77319515, 0.77051311]),\n",
       " 'test_accuracy': array([0.85695412, 0.85889322, 0.85718852]),\n",
       " 'test_roc_auc': array([0.89012387, 0.88745788, 0.8855793 ])}"
      ]
     },
     "execution_count": 22,
     "metadata": {},
     "output_type": "execute_result"
    }
   ],
   "source": [
    "from sklearn.model_selection import cross_val_score, cross_validate, cross_val_predict\n",
    "\n",
    "s = ['precision', 'recall', 'f1_macro', 'accuracy', 'roc_auc']\n",
    "\n",
    "cv_result = cross_validate(model, X, y, cv=kfold, scoring=s, verbose=0)\n",
    "cv_result"
   ]
  },
  {
   "cell_type": "code",
   "execution_count": 24,
   "id": "6e0198f6",
   "metadata": {},
   "outputs": [
    {
     "name": "stdout",
     "output_type": "stream",
     "text": [
      "test_precision: 0.7418168724168387 +/- 0.0029644899289956294\n",
      "test_recall: 0.5488286105379414 +/- 0.0015450781847480895\n",
      "test_f1_macro: 0.7713684988682478 +/- 0.0012925040637775443\n",
      "test_accuracy: 0.8576786208953951 +/- 0.00086416693499859\n",
      "test_roc_auc: 0.8877203527474312 +/- 0.0018645716429750681\n"
     ]
    }
   ],
   "source": [
    "show_cv_metrics('test_precision', cv_result)\n",
    "show_cv_metrics('test_recall', cv_result)\n",
    "show_cv_metrics('test_f1_macro', cv_result)\n",
    "show_cv_metrics('test_accuracy', cv_result)\n",
    "show_cv_metrics('test_roc_auc', cv_result)"
   ]
  },
  {
   "cell_type": "code",
   "execution_count": 25,
   "id": "551a6ddb",
   "metadata": {},
   "outputs": [
    {
     "data": {
      "text/html": [
       "<div>\n",
       "<style scoped>\n",
       "    .dataframe tbody tr th:only-of-type {\n",
       "        vertical-align: middle;\n",
       "    }\n",
       "\n",
       "    .dataframe tbody tr th {\n",
       "        vertical-align: top;\n",
       "    }\n",
       "\n",
       "    .dataframe thead th {\n",
       "        text-align: right;\n",
       "    }\n",
       "</style>\n",
       "<table border=\"1\" class=\"dataframe\">\n",
       "  <thead>\n",
       "    <tr style=\"text-align: right;\">\n",
       "      <th></th>\n",
       "      <th>test_precision</th>\n",
       "      <th>test_recall</th>\n",
       "      <th>test_f1_macro</th>\n",
       "      <th>test_accuracy</th>\n",
       "      <th>test_roc_auc</th>\n",
       "    </tr>\n",
       "  </thead>\n",
       "  <tbody>\n",
       "    <tr>\n",
       "      <th>0</th>\n",
       "      <td>0.738950</td>\n",
       "      <td>0.548173</td>\n",
       "      <td>0.770397</td>\n",
       "      <td>0.856954</td>\n",
       "      <td>0.890124</td>\n",
       "    </tr>\n",
       "    <tr>\n",
       "      <th>1</th>\n",
       "      <td>0.745900</td>\n",
       "      <td>0.550962</td>\n",
       "      <td>0.773195</td>\n",
       "      <td>0.858893</td>\n",
       "      <td>0.887458</td>\n",
       "    </tr>\n",
       "    <tr>\n",
       "      <th>2</th>\n",
       "      <td>0.740601</td>\n",
       "      <td>0.547351</td>\n",
       "      <td>0.770513</td>\n",
       "      <td>0.857189</td>\n",
       "      <td>0.885579</td>\n",
       "    </tr>\n",
       "  </tbody>\n",
       "</table>\n",
       "</div>"
      ],
      "text/plain": [
       "   test_precision  test_recall  test_f1_macro  test_accuracy  test_roc_auc\n",
       "0        0.738950     0.548173       0.770397       0.856954      0.890124\n",
       "1        0.745900     0.550962       0.773195       0.858893      0.887458\n",
       "2        0.740601     0.547351       0.770513       0.857189      0.885579"
      ]
     },
     "execution_count": 25,
     "metadata": {},
     "output_type": "execute_result"
    }
   ],
   "source": [
    "cv_result_df = pd.DataFrame(cv_result)\n",
    "cv_result_df = cv_result_df.iloc[:,2:]\n",
    "cv_result_df"
   ]
  },
  {
   "cell_type": "code",
   "execution_count": 26,
   "id": "ed648ffb",
   "metadata": {},
   "outputs": [
    {
     "data": {
      "text/plain": [
       "<AxesSubplot:>"
      ]
     },
     "execution_count": 26,
     "metadata": {},
     "output_type": "execute_result"
    },
    {
     "data": {
      "image/png": "[encoded data removed]",
      "text/plain": [
       "<Figure size 432x288 with 1 Axes>"
      ]
     },
     "metadata": {
      "needs_background": "light"
     },
     "output_type": "display_data"
    }
   ],
   "source": [
    "cv_result_df.plot(kind='bar')"
   ]
  },
  {
   "cell_type": "code",
   "execution_count": null,
   "id": "61787a11",
   "metadata": {},
   "outputs": [],
   "source": []
  }
 ],
 "metadata": {
  "kernelspec": {
   "display_name": "Python 3",
   "language": "python",
   "name": "python3"
  },
  "language_info": {
   "codemirror_mode": {
    "name": "ipython",
    "version": 3
   },
   "file_extension": ".py",
   "mimetype": "text/x-python",
   "name": "python",
   "nbconvert_exporter": "python",
   "pygments_lexer": "ipython3",
   "version": "3.8.8"
  }
 },
 "nbformat": 4,
 "nbformat_minor": 5
}
