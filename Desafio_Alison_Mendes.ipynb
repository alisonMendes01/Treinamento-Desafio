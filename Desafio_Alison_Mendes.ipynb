{
 "cells": [
  {
   "cell_type": "markdown",
   "id": "898a0c66",
   "metadata": {},
   "source": [
    "# Treinamento (Desafio) #"
   ]
  },
  {
   "cell_type": "markdown",
   "id": "ee1ab8a8",
   "metadata": {},
   "source": [
    "Importando bibliotecas básicas:"
   ]
  },
  {
   "cell_type": "code",
   "execution_count": 1,
   "id": "a64e02e4",
   "metadata": {},
   "outputs": [],
   "source": [
    "import pandas as pd\n",
    "import numpy as np\n",
    "import warnings\n",
    "warnings.filterwarnings('ignore')"
   ]
  },
  {
   "cell_type": "markdown",
   "id": "f5a72218",
   "metadata": {},
   "source": [
    "Função que retorna a porcentagem de dados nulos por coluna:"
   ]
  },
  {
   "cell_type": "code",
   "execution_count": 2,
   "id": "4f434ad8",
   "metadata": {},
   "outputs": [],
   "source": [
    "def get_missing_data(df):\n",
    "    missing_data = (df.isnull().sum() / df.shape[0]) * 100\n",
    "    return dict(missing_data)"
   ]
  },
  {
   "cell_type": "markdown",
   "id": "69704e1b",
   "metadata": {},
   "source": [
    "Função que trata o problema dos dados nulos no dataframe:"
   ]
  },
  {
   "cell_type": "code",
   "execution_count": 3,
   "id": "1be479e6",
   "metadata": {},
   "outputs": [],
   "source": [
    "def fill_missed_values(df):\n",
    "    missing_data = get_missing_data(df)\n",
    "    for miss in missing_data:\n",
    "        if missing_data[miss] > 0:\n",
    "            try:\n",
    "                df[miss] = df[miss].fillna(df[miss].mean())\n",
    "            except:\n",
    "                df[miss] = df[miss].fillna('missed')\n",
    "    return df"
   ]
  },
  {
   "cell_type": "markdown",
   "id": "4f101923",
   "metadata": {},
   "source": [
    "Função que remove linhas onde a informação de chuva (RainTomorrow) é nula:"
   ]
  },
  {
   "cell_type": "code",
   "execution_count": 4,
   "id": "4cc3a790",
   "metadata": {},
   "outputs": [],
   "source": [
    "def drop_rain_missed(df):\n",
    "    idx = df[\n",
    "        (df['RainToday'] == 'missed') |\n",
    "        (df['RainTomorrow'] == 'missed')\n",
    "    ].index\n",
    "    return df.drop(idx)"
   ]
  },
  {
   "cell_type": "markdown",
   "id": "a340c736",
   "metadata": {},
   "source": [
    "Função que aplica enconding nos dados não numéricos:"
   ]
  },
  {
   "cell_type": "code",
   "execution_count": 5,
   "id": "3277485d",
   "metadata": {},
   "outputs": [],
   "source": [
    "def encoding_data(df):\n",
    "    for column in df.columns:\n",
    "        if type(df[column].iloc[2] == str):\n",
    "            df[column] = le.fit_transform(df[column])\n",
    "    return df"
   ]
  },
  {
   "cell_type": "markdown",
   "id": "55a8bb8c",
   "metadata": {},
   "source": [
    "Função para mostrar as metricas com os desvios padrão:"
   ]
  },
  {
   "cell_type": "code",
   "execution_count": 6,
   "id": "150c2916",
   "metadata": {},
   "outputs": [],
   "source": [
    "def show_cv_metrics(str, cv_result):\n",
    "    print(f'{str}: {cv_result[str].mean()} +/- {cv_result[str].std()}')"
   ]
  },
  {
   "cell_type": "markdown",
   "id": "f4d5c48f",
   "metadata": {},
   "source": [
    "Importando o Dataset:"
   ]
  },
  {
   "cell_type": "code",
   "execution_count": 7,
   "id": "fe9abe3b",
   "metadata": {},
   "outputs": [],
   "source": [
    "train_ds = pd.read_csv('input/train.csv')\n",
    "test_ds = pd.read_csv('input/test.csv')"
   ]
  },
  {
   "cell_type": "markdown",
   "id": "98e8627d",
   "metadata": {},
   "source": [
    "Fazendo Id como index dos dataframes:"
   ]
  },
  {
   "cell_type": "code",
   "execution_count": 8,
   "id": "fbb595b9",
   "metadata": {},
   "outputs": [],
   "source": [
    "train_ds.set_index('Id', inplace=True)\n",
    "test_ds.set_index('Id', inplace=True)"
   ]
  },
  {
   "cell_type": "markdown",
   "id": "8346a70b",
   "metadata": {},
   "source": [
    "Tratando dados nulos:"
   ]
  },
  {
   "cell_type": "code",
   "execution_count": 9,
   "id": "f136b6e6",
   "metadata": {},
   "outputs": [],
   "source": [
    "train_ds = fill_missed_values(train_ds)\n",
    "test_ds = fill_missed_values(test_ds)"
   ]
  },
  {
   "cell_type": "markdown",
   "id": "6ed18c28",
   "metadata": {},
   "source": [
    "Removendo dados que não serão usados:"
   ]
  },
  {
   "cell_type": "code",
   "execution_count": 10,
   "id": "3694411d",
   "metadata": {},
   "outputs": [],
   "source": [
    "train_ds.drop(['Date', 'Location'], axis=1, inplace=True)\n",
    "test_ds.drop(['Date', 'Location'], axis=1, inplace=True)"
   ]
  },
  {
   "cell_type": "markdown",
   "id": "a68a8586",
   "metadata": {},
   "source": [
    "Preparando dados:"
   ]
  },
  {
   "cell_type": "code",
   "execution_count": 11,
   "id": "8076a059",
   "metadata": {
    "scrolled": false
   },
   "outputs": [
    {
     "data": {
      "text/html": [
       "<div>\n",
       "<style scoped>\n",
       "    .dataframe tbody tr th:only-of-type {\n",
       "        vertical-align: middle;\n",
       "    }\n",
       "\n",
       "    .dataframe tbody tr th {\n",
       "        vertical-align: top;\n",
       "    }\n",
       "\n",
       "    .dataframe thead th {\n",
       "        text-align: right;\n",
       "    }\n",
       "</style>\n",
       "<table border=\"1\" class=\"dataframe\">\n",
       "  <thead>\n",
       "    <tr style=\"text-align: right;\">\n",
       "      <th></th>\n",
       "      <th>MinTemp</th>\n",
       "      <th>MaxTemp</th>\n",
       "      <th>Rainfall</th>\n",
       "      <th>Evaporation</th>\n",
       "      <th>Sunshine</th>\n",
       "      <th>WindGustDir</th>\n",
       "      <th>WindGustSpeed</th>\n",
       "      <th>WindDir9am</th>\n",
       "      <th>WindDir3pm</th>\n",
       "      <th>WindSpeed9am</th>\n",
       "      <th>...</th>\n",
       "      <th>Humidity9am</th>\n",
       "      <th>Humidity3pm</th>\n",
       "      <th>Pressure9am</th>\n",
       "      <th>Pressure3pm</th>\n",
       "      <th>Cloud9am</th>\n",
       "      <th>Cloud3pm</th>\n",
       "      <th>Temp9am</th>\n",
       "      <th>Temp3pm</th>\n",
       "      <th>RainToday</th>\n",
       "      <th>RainTomorrow</th>\n",
       "    </tr>\n",
       "    <tr>\n",
       "      <th>Id</th>\n",
       "      <th></th>\n",
       "      <th></th>\n",
       "      <th></th>\n",
       "      <th></th>\n",
       "      <th></th>\n",
       "      <th></th>\n",
       "      <th></th>\n",
       "      <th></th>\n",
       "      <th></th>\n",
       "      <th></th>\n",
       "      <th></th>\n",
       "      <th></th>\n",
       "      <th></th>\n",
       "      <th></th>\n",
       "      <th></th>\n",
       "      <th></th>\n",
       "      <th></th>\n",
       "      <th></th>\n",
       "      <th></th>\n",
       "      <th></th>\n",
       "      <th></th>\n",
       "    </tr>\n",
       "  </thead>\n",
       "  <tbody>\n",
       "    <tr>\n",
       "      <th>2</th>\n",
       "      <td>7.4</td>\n",
       "      <td>25.1</td>\n",
       "      <td>0.0</td>\n",
       "      <td>5.464482</td>\n",
       "      <td>7.621446</td>\n",
       "      <td>WNW</td>\n",
       "      <td>44.0</td>\n",
       "      <td>NNW</td>\n",
       "      <td>WSW</td>\n",
       "      <td>4.0</td>\n",
       "      <td>...</td>\n",
       "      <td>44.0</td>\n",
       "      <td>25.0</td>\n",
       "      <td>1010.6</td>\n",
       "      <td>1007.8</td>\n",
       "      <td>4.425827</td>\n",
       "      <td>4.501143</td>\n",
       "      <td>17.2</td>\n",
       "      <td>24.3</td>\n",
       "      <td>No</td>\n",
       "      <td>No</td>\n",
       "    </tr>\n",
       "    <tr>\n",
       "      <th>3</th>\n",
       "      <td>12.9</td>\n",
       "      <td>25.7</td>\n",
       "      <td>0.0</td>\n",
       "      <td>5.464482</td>\n",
       "      <td>7.621446</td>\n",
       "      <td>WSW</td>\n",
       "      <td>46.0</td>\n",
       "      <td>W</td>\n",
       "      <td>WSW</td>\n",
       "      <td>19.0</td>\n",
       "      <td>...</td>\n",
       "      <td>38.0</td>\n",
       "      <td>30.0</td>\n",
       "      <td>1007.6</td>\n",
       "      <td>1008.7</td>\n",
       "      <td>4.425827</td>\n",
       "      <td>2.000000</td>\n",
       "      <td>21.0</td>\n",
       "      <td>23.2</td>\n",
       "      <td>No</td>\n",
       "      <td>No</td>\n",
       "    </tr>\n",
       "    <tr>\n",
       "      <th>4</th>\n",
       "      <td>9.2</td>\n",
       "      <td>28.0</td>\n",
       "      <td>0.0</td>\n",
       "      <td>5.464482</td>\n",
       "      <td>7.621446</td>\n",
       "      <td>NE</td>\n",
       "      <td>24.0</td>\n",
       "      <td>SE</td>\n",
       "      <td>E</td>\n",
       "      <td>11.0</td>\n",
       "      <td>...</td>\n",
       "      <td>45.0</td>\n",
       "      <td>16.0</td>\n",
       "      <td>1017.6</td>\n",
       "      <td>1012.8</td>\n",
       "      <td>4.425827</td>\n",
       "      <td>4.501143</td>\n",
       "      <td>18.1</td>\n",
       "      <td>26.5</td>\n",
       "      <td>No</td>\n",
       "      <td>No</td>\n",
       "    </tr>\n",
       "  </tbody>\n",
       "</table>\n",
       "<p>3 rows × 21 columns</p>\n",
       "</div>"
      ],
      "text/plain": [
       "    MinTemp  MaxTemp  Rainfall  Evaporation  Sunshine WindGustDir  \\\n",
       "Id                                                                  \n",
       "2       7.4     25.1       0.0     5.464482  7.621446         WNW   \n",
       "3      12.9     25.7       0.0     5.464482  7.621446         WSW   \n",
       "4       9.2     28.0       0.0     5.464482  7.621446          NE   \n",
       "\n",
       "    WindGustSpeed WindDir9am WindDir3pm  WindSpeed9am  ...  Humidity9am  \\\n",
       "Id                                                     ...                \n",
       "2            44.0        NNW        WSW           4.0  ...         44.0   \n",
       "3            46.0          W        WSW          19.0  ...         38.0   \n",
       "4            24.0         SE          E          11.0  ...         45.0   \n",
       "\n",
       "    Humidity3pm  Pressure9am  Pressure3pm  Cloud9am  Cloud3pm  Temp9am  \\\n",
       "Id                                                                       \n",
       "2          25.0       1010.6       1007.8  4.425827  4.501143     17.2   \n",
       "3          30.0       1007.6       1008.7  4.425827  2.000000     21.0   \n",
       "4          16.0       1017.6       1012.8  4.425827  4.501143     18.1   \n",
       "\n",
       "    Temp3pm  RainToday RainTomorrow  \n",
       "Id                                   \n",
       "2      24.3         No           No  \n",
       "3      23.2         No           No  \n",
       "4      26.5         No           No  \n",
       "\n",
       "[3 rows x 21 columns]"
      ]
     },
     "execution_count": 11,
     "metadata": {},
     "output_type": "execute_result"
    }
   ],
   "source": [
    "data = pd.concat([train_ds, test_ds])\n",
    "\n",
    "data.head(3)"
   ]
  },
  {
   "cell_type": "markdown",
   "id": "f1caad3a",
   "metadata": {},
   "source": [
    "Checando de fato não há mais nenhum dado nulo no dataframe:"
   ]
  },
  {
   "cell_type": "code",
   "execution_count": 12,
   "id": "5a976f96",
   "metadata": {},
   "outputs": [
    {
     "name": "stdout",
     "output_type": "stream",
     "text": [
      "{'MinTemp': 0.0, 'MaxTemp': 0.0, 'Rainfall': 0.0, 'Evaporation': 0.0, 'Sunshine': 0.0, 'WindGustDir': 0.0, 'WindGustSpeed': 0.0, 'WindDir9am': 0.0, 'WindDir3pm': 0.0, 'WindSpeed9am': 0.0, 'WindSpeed3pm': 0.0, 'Humidity9am': 0.0, 'Humidity3pm': 0.0, 'Pressure9am': 0.0, 'Pressure3pm': 0.0, 'Cloud9am': 0.0, 'Cloud3pm': 0.0, 'Temp9am': 0.0, 'Temp3pm': 0.0, 'RainToday': 0.0, 'RainTomorrow': 0.0}\n"
     ]
    }
   ],
   "source": [
    "print(get_missing_data(data))"
   ]
  },
  {
   "cell_type": "markdown",
   "id": "8c679887",
   "metadata": {},
   "source": [
    "Separando dados do teste (submissão) e dados para treino e validação:"
   ]
  },
  {
   "cell_type": "code",
   "execution_count": 13,
   "id": "091ec818",
   "metadata": {},
   "outputs": [],
   "source": [
    "test = data.loc[test_ds.index]\n",
    "test.drop('RainTomorrow', axis=1, inplace=True)\n",
    "\n",
    "data = data.loc[train_ds.index]"
   ]
  },
  {
   "cell_type": "markdown",
   "id": "8902d2ae",
   "metadata": {},
   "source": [
    "Importando biblioteca para aplicar label encoding:"
   ]
  },
  {
   "cell_type": "code",
   "execution_count": 14,
   "id": "8e0881cf",
   "metadata": {},
   "outputs": [],
   "source": [
    "from sklearn.preprocessing import LabelEncoder\n",
    "le = LabelEncoder()"
   ]
  },
  {
   "cell_type": "code",
   "execution_count": 15,
   "id": "eb6fd77f",
   "metadata": {},
   "outputs": [
    {
     "data": {
      "text/plain": [
       "113754"
      ]
     },
     "execution_count": 15,
     "metadata": {},
     "output_type": "execute_result"
    }
   ],
   "source": [
    "data_le = data\n",
    "data_le.shape[0]"
   ]
  },
  {
   "cell_type": "markdown",
   "id": "174ccce0",
   "metadata": {},
   "source": [
    "Removendo linhas do dataframe com informações de chuva (Yes/No) são nulos:"
   ]
  },
  {
   "cell_type": "code",
   "execution_count": 16,
   "id": "fd015fde",
   "metadata": {
    "scrolled": false
   },
   "outputs": [
    {
     "data": {
      "text/plain": [
       "112608"
      ]
     },
     "execution_count": 16,
     "metadata": {},
     "output_type": "execute_result"
    }
   ],
   "source": [
    "data_le = drop_rain_missed(data_le)\n",
    "data_le.shape[0]"
   ]
  },
  {
   "cell_type": "markdown",
   "id": "161b80af",
   "metadata": {},
   "source": [
    "Aplicando enconding:"
   ]
  },
  {
   "cell_type": "code",
   "execution_count": 17,
   "id": "584eacbb",
   "metadata": {},
   "outputs": [],
   "source": [
    "data_le = encoding_data(data_le)"
   ]
  },
  {
   "cell_type": "markdown",
   "id": "902169b9",
   "metadata": {},
   "source": [
    "Definindo Feature e Target:"
   ]
  },
  {
   "cell_type": "code",
   "execution_count": 18,
   "id": "1f11980f",
   "metadata": {},
   "outputs": [],
   "source": [
    "X = data_le.drop('RainTomorrow', axis=1)\n",
    "y = data_le['RainTomorrow']"
   ]
  },
  {
   "cell_type": "markdown",
   "id": "b8312874",
   "metadata": {},
   "source": [
    "Aplicando StratifiedKFold e definindo modelo xgboost:"
   ]
  },
  {
   "cell_type": "code",
   "execution_count": 19,
   "id": "4ec75113",
   "metadata": {},
   "outputs": [],
   "source": [
    "import xgboost as xgb\n",
    "from sklearn.model_selection import StratifiedKFold\n",
    "\n",
    "folds = 3\n",
    "\n",
    "kfold = StratifiedKFold(n_splits=folds, shuffle=True, random_state=1234)\n",
    "\n",
    "model = xgb.XGBClassifier(objective='binary:logistic')"
   ]
  },
  {
   "cell_type": "markdown",
   "id": "c6e167f7",
   "metadata": {},
   "source": [
    "Definindo os valores de X para valores entre 0 e 1:"
   ]
  },
  {
   "cell_type": "code",
   "execution_count": 20,
   "id": "c3683a3f",
   "metadata": {},
   "outputs": [],
   "source": [
    "from sklearn.preprocessing import MinMaxScaler\n",
    "\n",
    "np.random.seed(1234)\n",
    "\n",
    "scaler = MinMaxScaler()\n",
    "\n",
    "X[X.columns] = scaler.fit_transform(X[X.columns])"
   ]
  },
  {
   "cell_type": "markdown",
   "id": "77cf9743",
   "metadata": {},
   "source": [
    "Armazenando as features em uma variavel para facilitar o entendimento posteriormente:"
   ]
  },
  {
   "cell_type": "code",
   "execution_count": 21,
   "id": "eaa73985",
   "metadata": {},
   "outputs": [],
   "source": [
    "feature_list = X.columns"
   ]
  },
  {
   "cell_type": "markdown",
   "id": "06dd6a68",
   "metadata": {},
   "source": [
    "Validação cruzada:"
   ]
  },
  {
   "cell_type": "code",
   "execution_count": 22,
   "id": "cdb7cb0f",
   "metadata": {},
   "outputs": [
    {
     "name": "stdout",
     "output_type": "stream",
     "text": [
      "[23:16:50] WARNING: C:/Users/Administrator/workspace/xgboost-win64_release_1.5.1/src/learner.cc:1115: Starting in XGBoost 1.3.0, the default evaluation metric used with the objective 'binary:logistic' was changed from 'error' to 'logloss'. Explicitly set eval_metric if you'd like to restore the old behavior.\n",
      "[23:16:54] WARNING: C:/Users/Administrator/workspace/xgboost-win64_release_1.5.1/src/learner.cc:1115: Starting in XGBoost 1.3.0, the default evaluation metric used with the objective 'binary:logistic' was changed from 'error' to 'logloss'. Explicitly set eval_metric if you'd like to restore the old behavior.\n",
      "[23:16:57] WARNING: C:/Users/Administrator/workspace/xgboost-win64_release_1.5.1/src/learner.cc:1115: Starting in XGBoost 1.3.0, the default evaluation metric used with the objective 'binary:logistic' was changed from 'error' to 'logloss'. Explicitly set eval_metric if you'd like to restore the old behavior.\n"
     ]
    },
    {
     "data": {
      "text/plain": [
       "{'fit_time': array([3.72521448, 3.20349669, 3.57334805]),\n",
       " 'score_time': array([0.10517621, 0.11440802, 0.10112786]),\n",
       " 'test_recall': array([0.54428554, 0.55221728, 0.54313867]),\n",
       " 'test_precision': array([0.74088009, 0.72982846, 0.72528883]),\n",
       " 'test_f1_macro': array([0.7694444 , 0.76947537, 0.76501085]),\n",
       " 'test_accuracy': array([0.85677749, 0.8554188 , 0.85310102]),\n",
       " 'test_roc_auc': array([0.88546519, 0.88321993, 0.883435  ])}"
      ]
     },
     "execution_count": 22,
     "metadata": {},
     "output_type": "execute_result"
    }
   ],
   "source": [
    "from sklearn.model_selection import cross_val_score, cross_validate, cross_val_predict\n",
    "\n",
    "s = ['recall', 'precision', 'f1_macro', 'accuracy', 'roc_auc']\n",
    "\n",
    "cv_result = cross_validate(model, X, y, cv=kfold, scoring=s, verbose=0)\n",
    "cv_result"
   ]
  },
  {
   "cell_type": "markdown",
   "id": "e6526a70",
   "metadata": {},
   "source": [
    "Exibindo metricas e seus devidos desvios padrão:"
   ]
  },
  {
   "cell_type": "code",
   "execution_count": 23,
   "id": "6e0198f6",
   "metadata": {},
   "outputs": [
    {
     "name": "stdout",
     "output_type": "stream",
     "text": [
      "test_recall: 0.5465471642563559 +/- 0.004036624234927131\n",
      "test_precision: 0.731999128653206 +/- 0.006547553687299624\n",
      "test_f1_macro: 0.767976870545338 +/- 0.0020973329813110102\n",
      "test_accuracy: 0.855099104859335 +/- 0.0015178409562280597\n",
      "test_roc_auc: 0.8840400409310131 +/- 0.0010115531781445448\n"
     ]
    }
   ],
   "source": [
    "show_cv_metrics('test_recall', cv_result)\n",
    "show_cv_metrics('test_precision', cv_result)\n",
    "show_cv_metrics('test_f1_macro', cv_result)\n",
    "show_cv_metrics('test_accuracy', cv_result)\n",
    "show_cv_metrics('test_roc_auc', cv_result)"
   ]
  },
  {
   "cell_type": "markdown",
   "id": "5f79a2ac",
   "metadata": {},
   "source": [
    "Exibindo metricas como dataframe:"
   ]
  },
  {
   "cell_type": "code",
   "execution_count": 24,
   "id": "551a6ddb",
   "metadata": {},
   "outputs": [
    {
     "data": {
      "text/html": [
       "<div>\n",
       "<style scoped>\n",
       "    .dataframe tbody tr th:only-of-type {\n",
       "        vertical-align: middle;\n",
       "    }\n",
       "\n",
       "    .dataframe tbody tr th {\n",
       "        vertical-align: top;\n",
       "    }\n",
       "\n",
       "    .dataframe thead th {\n",
       "        text-align: right;\n",
       "    }\n",
       "</style>\n",
       "<table border=\"1\" class=\"dataframe\">\n",
       "  <thead>\n",
       "    <tr style=\"text-align: right;\">\n",
       "      <th></th>\n",
       "      <th>test_recall</th>\n",
       "      <th>test_precision</th>\n",
       "      <th>test_f1_macro</th>\n",
       "      <th>test_accuracy</th>\n",
       "      <th>test_roc_auc</th>\n",
       "    </tr>\n",
       "  </thead>\n",
       "  <tbody>\n",
       "    <tr>\n",
       "      <th>0</th>\n",
       "      <td>0.544286</td>\n",
       "      <td>0.740880</td>\n",
       "      <td>0.769444</td>\n",
       "      <td>0.856777</td>\n",
       "      <td>0.885465</td>\n",
       "    </tr>\n",
       "    <tr>\n",
       "      <th>1</th>\n",
       "      <td>0.552217</td>\n",
       "      <td>0.729828</td>\n",
       "      <td>0.769475</td>\n",
       "      <td>0.855419</td>\n",
       "      <td>0.883220</td>\n",
       "    </tr>\n",
       "    <tr>\n",
       "      <th>2</th>\n",
       "      <td>0.543139</td>\n",
       "      <td>0.725289</td>\n",
       "      <td>0.765011</td>\n",
       "      <td>0.853101</td>\n",
       "      <td>0.883435</td>\n",
       "    </tr>\n",
       "  </tbody>\n",
       "</table>\n",
       "</div>"
      ],
      "text/plain": [
       "   test_recall  test_precision  test_f1_macro  test_accuracy  test_roc_auc\n",
       "0     0.544286        0.740880       0.769444       0.856777      0.885465\n",
       "1     0.552217        0.729828       0.769475       0.855419      0.883220\n",
       "2     0.543139        0.725289       0.765011       0.853101      0.883435"
      ]
     },
     "execution_count": 24,
     "metadata": {},
     "output_type": "execute_result"
    }
   ],
   "source": [
    "cv_result_df = pd.DataFrame(cv_result)\n",
    "cv_result_df = cv_result_df.iloc[:,2:]\n",
    "cv_result_df"
   ]
  },
  {
   "cell_type": "markdown",
   "id": "14c28cf5",
   "metadata": {},
   "source": [
    "Plotando valores metricas por fold em um grafico de barras:"
   ]
  },
  {
   "cell_type": "code",
   "execution_count": 25,
   "id": "ed648ffb",
   "metadata": {
    "scrolled": false
   },
   "outputs": [
    {
     "data": {
      "text/plain": [
       "<AxesSubplot:>"
      ]
     },
     "execution_count": 25,
     "metadata": {},
     "output_type": "execute_result"
    },
    {
     "data": {
      "image/png": "[encoded data removed]",
      "text/plain": [
       "<Figure size 432x288 with 1 Axes>"
      ]
     },
     "metadata": {
      "needs_background": "light"
     },
     "output_type": "display_data"
    }
   ],
   "source": [
    "cv_result_df.plot(kind='bar')"
   ]
  },
  {
   "cell_type": "markdown",
   "id": "1eeea688",
   "metadata": {},
   "source": [
    "Grade de aramentros para serem ajustados:"
   ]
  },
  {
   "cell_type": "code",
   "execution_count": 26,
   "id": "3facbf51",
   "metadata": {},
   "outputs": [],
   "source": [
    "from scipy.stats import uniform\n",
    "from scipy.stats import randint\n",
    "\n",
    "param_grid = {\n",
    "    'max_depth':randint(3,7),\n",
    "    'learning_rate':uniform(0.01,0.05),\n",
    "    'gamma':uniform(0,5),\n",
    "    'reg_lambda':uniform(0,10),\n",
    "    'scale_pos_weight':uniform(1,5),\n",
    "    'subsamples':uniform(0.6,1.0),\n",
    "    'colsample_bytree':uniform(0.5,1.0)\n",
    "}"
   ]
  },
  {
   "cell_type": "markdown",
   "id": "bddbd7d4",
   "metadata": {},
   "source": [
    "Aplicando RandomizedSearchCV:"
   ]
  },
  {
   "cell_type": "code",
   "execution_count": 27,
   "id": "c08c60b7",
   "metadata": {},
   "outputs": [
    {
     "name": "stdout",
     "output_type": "stream",
     "text": [
      "[23:38:54] WARNING: C:/Users/Administrator/workspace/xgboost-win64_release_1.5.1/src/learner.cc:576: \n",
      "Parameters: { \"subsamples\" } might not be used.\n",
      "\n",
      "  This could be a false alarm, with some parameters getting used by language bindings but\n",
      "  then being mistakenly passed down to XGBoost core, or some parameter actually being used\n",
      "  but getting flagged wrongly here. Please open an issue if you find any such cases.\n",
      "\n",
      "\n",
      "[23:38:54] WARNING: C:/Users/Administrator/workspace/xgboost-win64_release_1.5.1/src/learner.cc:1115: Starting in XGBoost 1.3.0, the default evaluation metric used with the objective 'binary:logistic' was changed from 'error' to 'logloss'. Explicitly set eval_metric if you'd like to restore the old behavior.\n"
     ]
    }
   ],
   "source": [
    "from sklearn.model_selection import RandomizedSearchCV\n",
    "\n",
    "moedel = xgb.XGBClassifier(objective='binary:logistic')\n",
    "\n",
    "grid_cv = RandomizedSearchCV(model, param_grid, n_iter=500, cv=folds, scoring='roc_auc', n_jobs=-1, random_state=1234)\n",
    "\n",
    "_ = grid_cv.fit(X,y)"
   ]
  },
  {
   "cell_type": "markdown",
   "id": "8590b855",
   "metadata": {},
   "source": [
    "Melhor roc_auc:"
   ]
  },
  {
   "cell_type": "code",
   "execution_count": 28,
   "id": "9556989e",
   "metadata": {},
   "outputs": [
    {
     "data": {
      "text/plain": [
       "0.866020828335292"
      ]
     },
     "execution_count": 28,
     "metadata": {},
     "output_type": "execute_result"
    }
   ],
   "source": [
    "grid_cv.best_score_"
   ]
  },
  {
   "cell_type": "markdown",
   "id": "e89dfcfb",
   "metadata": {},
   "source": [
    "Melhores parametros:"
   ]
  },
  {
   "cell_type": "code",
   "execution_count": 29,
   "id": "3b43f8b5",
   "metadata": {},
   "outputs": [
    {
     "data": {
      "text/plain": [
       "{'colsample_bytree': 0.8189891657545427,\n",
       " 'gamma': 4.555193365587465,\n",
       " 'learning_rate': 0.05381445970936389,\n",
       " 'max_depth': 6,\n",
       " 'reg_lambda': 2.445561377953107,\n",
       " 'scale_pos_weight': 1.3191841965244369,\n",
       " 'subsamples': 1.0267541951920882}"
      ]
     },
     "execution_count": 29,
     "metadata": {},
     "output_type": "execute_result"
    }
   ],
   "source": [
    "grid_cv.best_params_"
   ]
  },
  {
   "cell_type": "markdown",
   "id": "08ad1758",
   "metadata": {},
   "source": [
    "Aplicando alguns ajustes em test (pré-processamento):"
   ]
  },
  {
   "cell_type": "code",
   "execution_count": 30,
   "id": "b8605769",
   "metadata": {},
   "outputs": [
    {
     "data": {
      "text/html": [
       "<div>\n",
       "<style scoped>\n",
       "    .dataframe tbody tr th:only-of-type {\n",
       "        vertical-align: middle;\n",
       "    }\n",
       "\n",
       "    .dataframe tbody tr th {\n",
       "        vertical-align: top;\n",
       "    }\n",
       "\n",
       "    .dataframe thead th {\n",
       "        text-align: right;\n",
       "    }\n",
       "</style>\n",
       "<table border=\"1\" class=\"dataframe\">\n",
       "  <thead>\n",
       "    <tr style=\"text-align: right;\">\n",
       "      <th></th>\n",
       "      <th>MinTemp</th>\n",
       "      <th>MaxTemp</th>\n",
       "      <th>Rainfall</th>\n",
       "      <th>Evaporation</th>\n",
       "      <th>Sunshine</th>\n",
       "      <th>WindGustDir</th>\n",
       "      <th>WindGustSpeed</th>\n",
       "      <th>WindDir9am</th>\n",
       "      <th>WindDir3pm</th>\n",
       "      <th>WindSpeed9am</th>\n",
       "      <th>WindSpeed3pm</th>\n",
       "      <th>Humidity9am</th>\n",
       "      <th>Humidity3pm</th>\n",
       "      <th>Pressure9am</th>\n",
       "      <th>Pressure3pm</th>\n",
       "      <th>Cloud9am</th>\n",
       "      <th>Cloud3pm</th>\n",
       "      <th>Temp9am</th>\n",
       "      <th>Temp3pm</th>\n",
       "      <th>RainToday</th>\n",
       "    </tr>\n",
       "    <tr>\n",
       "      <th>Id</th>\n",
       "      <th></th>\n",
       "      <th></th>\n",
       "      <th></th>\n",
       "      <th></th>\n",
       "      <th></th>\n",
       "      <th></th>\n",
       "      <th></th>\n",
       "      <th></th>\n",
       "      <th></th>\n",
       "      <th></th>\n",
       "      <th></th>\n",
       "      <th></th>\n",
       "      <th></th>\n",
       "      <th></th>\n",
       "      <th></th>\n",
       "      <th></th>\n",
       "      <th></th>\n",
       "      <th></th>\n",
       "      <th></th>\n",
       "      <th></th>\n",
       "    </tr>\n",
       "  </thead>\n",
       "  <tbody>\n",
       "    <tr>\n",
       "      <th>1</th>\n",
       "      <td>0.515464</td>\n",
       "      <td>0.482</td>\n",
       "      <td>0.009554</td>\n",
       "      <td>0.164179</td>\n",
       "      <td>0.531034</td>\n",
       "      <td>0.8125</td>\n",
       "      <td>0.318182</td>\n",
       "      <td>0.8125</td>\n",
       "      <td>0.8750</td>\n",
       "      <td>0.279070</td>\n",
       "      <td>0.325581</td>\n",
       "      <td>0.72</td>\n",
       "      <td>0.217822</td>\n",
       "      <td>0.316574</td>\n",
       "      <td>0.324627</td>\n",
       "      <td>0.9</td>\n",
       "      <td>0.5</td>\n",
       "      <td>0.472477</td>\n",
       "      <td>0.475806</td>\n",
       "      <td>0.0</td>\n",
       "    </tr>\n",
       "    <tr>\n",
       "      <th>5</th>\n",
       "      <td>0.621134</td>\n",
       "      <td>0.672</td>\n",
       "      <td>0.015924</td>\n",
       "      <td>0.164179</td>\n",
       "      <td>0.531034</td>\n",
       "      <td>0.8125</td>\n",
       "      <td>0.287879</td>\n",
       "      <td>0.0625</td>\n",
       "      <td>0.4375</td>\n",
       "      <td>0.093023</td>\n",
       "      <td>0.279070</td>\n",
       "      <td>0.83</td>\n",
       "      <td>0.326733</td>\n",
       "      <td>0.374302</td>\n",
       "      <td>0.304104</td>\n",
       "      <td>0.8</td>\n",
       "      <td>0.9</td>\n",
       "      <td>0.495413</td>\n",
       "      <td>0.635081</td>\n",
       "      <td>0.0</td>\n",
       "    </tr>\n",
       "    <tr>\n",
       "      <th>7</th>\n",
       "      <td>0.538660</td>\n",
       "      <td>0.526</td>\n",
       "      <td>0.000000</td>\n",
       "      <td>0.164179</td>\n",
       "      <td>0.531034</td>\n",
       "      <td>0.8125</td>\n",
       "      <td>0.363636</td>\n",
       "      <td>0.7500</td>\n",
       "      <td>0.8125</td>\n",
       "      <td>0.279070</td>\n",
       "      <td>0.325581</td>\n",
       "      <td>0.49</td>\n",
       "      <td>0.188119</td>\n",
       "      <td>0.351955</td>\n",
       "      <td>0.345149</td>\n",
       "      <td>0.1</td>\n",
       "      <td>0.5</td>\n",
       "      <td>0.502294</td>\n",
       "      <td>0.532258</td>\n",
       "      <td>0.0</td>\n",
       "    </tr>\n",
       "  </tbody>\n",
       "</table>\n",
       "</div>"
      ],
      "text/plain": [
       "     MinTemp  MaxTemp  Rainfall  Evaporation  Sunshine  WindGustDir  \\\n",
       "Id                                                                    \n",
       "1   0.515464    0.482  0.009554     0.164179  0.531034       0.8125   \n",
       "5   0.621134    0.672  0.015924     0.164179  0.531034       0.8125   \n",
       "7   0.538660    0.526  0.000000     0.164179  0.531034       0.8125   \n",
       "\n",
       "    WindGustSpeed  WindDir9am  WindDir3pm  WindSpeed9am  WindSpeed3pm  \\\n",
       "Id                                                                      \n",
       "1        0.318182      0.8125      0.8750      0.279070      0.325581   \n",
       "5        0.287879      0.0625      0.4375      0.093023      0.279070   \n",
       "7        0.363636      0.7500      0.8125      0.279070      0.325581   \n",
       "\n",
       "    Humidity9am  Humidity3pm  Pressure9am  Pressure3pm  Cloud9am  Cloud3pm  \\\n",
       "Id                                                                           \n",
       "1          0.72     0.217822     0.316574     0.324627       0.9       0.5   \n",
       "5          0.83     0.326733     0.374302     0.304104       0.8       0.9   \n",
       "7          0.49     0.188119     0.351955     0.345149       0.1       0.5   \n",
       "\n",
       "     Temp9am   Temp3pm  RainToday  \n",
       "Id                                 \n",
       "1   0.472477  0.475806        0.0  \n",
       "5   0.495413  0.635081        0.0  \n",
       "7   0.502294  0.532258        0.0  "
      ]
     },
     "execution_count": 30,
     "metadata": {},
     "output_type": "execute_result"
    }
   ],
   "source": [
    "test = encoding_data(test)\n",
    "\n",
    "test[feature_list] = scaler.transform(test[feature_list])\n",
    "test.head(3)"
   ]
  },
  {
   "cell_type": "markdown",
   "id": "c933fc2f",
   "metadata": {},
   "source": [
    "Treinamento:"
   ]
  },
  {
   "cell_type": "code",
   "execution_count": 31,
   "id": "cf9610d6",
   "metadata": {},
   "outputs": [
    {
     "name": "stdout",
     "output_type": "stream",
     "text": [
      "[23:38:59] WARNING: C:/Users/Administrator/workspace/xgboost-win64_release_1.5.1/src/learner.cc:576: \n",
      "Parameters: { \"subsamples\" } might not be used.\n",
      "\n",
      "  This could be a false alarm, with some parameters getting used by language bindings but\n",
      "  then being mistakenly passed down to XGBoost core, or some parameter actually being used\n",
      "  but getting flagged wrongly here. Please open an issue if you find any such cases.\n",
      "\n",
      "\n",
      "[23:38:59] WARNING: C:/Users/Administrator/workspace/xgboost-win64_release_1.5.1/src/learner.cc:1115: Starting in XGBoost 1.3.0, the default evaluation metric used with the objective 'binary:logistic' was changed from 'error' to 'logloss'. Explicitly set eval_metric if you'd like to restore the old behavior.\n"
     ]
    },
    {
     "data": {
      "text/plain": [
       "XGBClassifier(base_score=0.5, booster='gbtree', colsample_bylevel=1,\n",
       "              colsample_bynode=1, colsample_bytree=0.8189891657545427,\n",
       "              enable_categorical=False, gamma=4.555193365587465, gpu_id=-1,\n",
       "              importance_type=None, interaction_constraints='',\n",
       "              learning_rate=0.05381445970936389, max_delta_step=0, max_depth=6,\n",
       "              min_child_weight=1, missing=nan, monotone_constraints='()',\n",
       "              n_estimators=100, n_jobs=4, num_parallel_tree=1, predictor='auto',\n",
       "              random_state=0, reg_alpha=0, reg_lambda=2.445561377953107,\n",
       "              scale_pos_weight=1.3191841965244369, subsample=1,\n",
       "              subsamples=1.0267541951920882, tree_method='exact',\n",
       "              validate_parameters=1, verbosity=None)"
      ]
     },
     "execution_count": 31,
     "metadata": {},
     "output_type": "execute_result"
    }
   ],
   "source": [
    "final_model = xgb.XGBClassifier(\n",
    "    **grid_cv.best_params_,\n",
    "    objective='binary:logistic'\n",
    ")\n",
    "\n",
    "final_model.fit(X, y)"
   ]
  },
  {
   "cell_type": "code",
   "execution_count": 32,
   "id": "f44c1f1c",
   "metadata": {},
   "outputs": [],
   "source": [
    "pred = final_model.predict(test)"
   ]
  },
  {
   "cell_type": "markdown",
   "id": "419f34bf",
   "metadata": {},
   "source": [
    "Submissão:"
   ]
  },
  {
   "cell_type": "code",
   "execution_count": 33,
   "id": "d1cfb961",
   "metadata": {},
   "outputs": [],
   "source": [
    "submission = pd.DataFrame({\n",
    "    'Id': test.index,\n",
    "    'RainTomorrow': pred\n",
    "})\n",
    "\n",
    "submission['RainTomorrow'] = submission['RainTomorrow'].astype('int')\n",
    "\n",
    "submission.to_csv('submission.csv', index=False)"
   ]
  }
 ],
 "metadata": {
  "kernelspec": {
   "display_name": "Python 3",
   "language": "python",
   "name": "python3"
  },
  "language_info": {
   "codemirror_mode": {
    "name": "ipython",
    "version": 3
   },
   "file_extension": ".py",
   "mimetype": "text/x-python",
   "name": "python",
   "nbconvert_exporter": "python",
   "pygments_lexer": "ipython3",
   "version": "3.8.8"
  }
 },
 "nbformat": 4,
 "nbformat_minor": 5
}
